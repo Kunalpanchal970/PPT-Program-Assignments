{
 "cells": [
  {
   "cell_type": "markdown",
   "id": "e17e4616",
   "metadata": {},
   "source": [
    "## Q1. \n",
    "Given an array of integers nums and an integer target, return indices of the two numbers such that they add up to target.\n",
    "\n",
    "You may assume that each input would have exactly one solution, and you may not use the same element twice.\n",
    "\n",
    "You can return the answer in any order."
   ]
  },
  {
   "cell_type": "code",
   "execution_count": 4,
   "id": "d845669d",
   "metadata": {},
   "outputs": [],
   "source": [
    "def twoSum(nums, target):\n",
    "    num_dict = {}\n",
    "    for i, num in enumerate(nums):\n",
    "        complement = target - num\n",
    "        if complement in num_dict:\n",
    "            return [num_dict[complement], i]\n",
    "        num_dict[num] = i\n",
    "        "
   ]
  },
  {
   "cell_type": "code",
   "execution_count": 6,
   "id": "2b0cd2bc",
   "metadata": {},
   "outputs": [
    {
     "name": "stdout",
     "output_type": "stream",
     "text": [
      "[0, 3]\n"
     ]
    }
   ],
   "source": [
    "#example\n",
    "nums = [3,4,7,9,14]\n",
    "target = 12\n",
    "result = twoSum(nums, target)\n",
    "print(result)"
   ]
  },
  {
   "cell_type": "markdown",
   "id": "5554696a",
   "metadata": {},
   "source": [
    "## Q2.\n",
    "Given an integer array nums and an integer val, remove all occurrences of val in nums in-place. The order of the elements may be changed. Then return the number of elements in nums which are not equal to val.\n",
    "\n",
    "Consider the number of elements in nums which are not equal to val be k, to get accepted, you need to do the following things:\n",
    "\n",
    "- Change the array nums such that the first k elements of nums contain the elements which are not equal to val. The remaining elements of nums are not important as well as the size of nums.\n",
    "- Return k."
   ]
  },
  {
   "cell_type": "code",
   "execution_count": 4,
   "id": "40caf172",
   "metadata": {},
   "outputs": [
    {
     "name": "stdout",
     "output_type": "stream",
     "text": [
      "6\n",
      "[2, 2, 2, 2, 2, 2]\n"
     ]
    }
   ],
   "source": [
    "def remove_val(nums, val):\n",
    "    k = 0  # variable to keep track of the count of elements not equal to val\n",
    "    \n",
    "    for i in range(len(nums)):\n",
    "        if nums[i] != val:\n",
    "            nums[k] = nums[i]\n",
    "            k += 1\n",
    "    \n",
    "    return k\n",
    "\n",
    "# Exampleb:\n",
    "nums = [3, 2, 2, 3, 2, 2, 2, 3, 3, 2]\n",
    "val = 3\n",
    "result = remove_val(nums, val)\n",
    "print(result)\n",
    "print(nums[:result])  # Print the first k elements of nums\n"
   ]
  },
  {
   "cell_type": "markdown",
   "id": "2d612c37",
   "metadata": {},
   "source": [
    "## Q3.\n",
    "Given a sorted array of distinct integers and a target value, return the index if the target is found. If not, return the index where it would be if it were inserted in order.\n",
    "\n",
    "You must write an algorithm with O(log n) runtime complexity.\n"
   ]
  },
  {
   "cell_type": "code",
   "execution_count": 6,
   "id": "53771c05",
   "metadata": {},
   "outputs": [
    {
     "name": "stdout",
     "output_type": "stream",
     "text": [
      "5\n"
     ]
    }
   ],
   "source": [
    "def finding_target(nums, target):\n",
    "    left = 0\n",
    "    right = len(nums) - 1\n",
    "    \n",
    "    while left <= right:\n",
    "        mid = (left + right) // 2\n",
    "        \n",
    "        if nums[mid] == target:\n",
    "            return mid\n",
    "        elif nums[mid] < target:\n",
    "            left = mid + 1\n",
    "        else:\n",
    "            right = mid - 1\n",
    "    \n",
    "    return left\n",
    "\n",
    "# Example 1:\n",
    "nums = [1, 2, 4, 6, 7, 8, 10, 14]\n",
    "target = 8\n",
    "result = finding_target(nums, target)\n",
    "print(result)\n"
   ]
  },
  {
   "cell_type": "code",
   "execution_count": 7,
   "id": "141c9f81",
   "metadata": {},
   "outputs": [
    {
     "name": "stdout",
     "output_type": "stream",
     "text": [
      "3\n"
     ]
    }
   ],
   "source": [
    "# Example 2:\n",
    "nums =[2, 4, 5, 7, 9, 11, 13]\n",
    "target = 6\n",
    "result = finding_target(nums, target)\n",
    "print(result)"
   ]
  },
  {
   "cell_type": "markdown",
   "id": "215465a5",
   "metadata": {},
   "source": [
    "### Algorithm with O(log n) runtime complexity :\n",
    "In this solution, we initialize two pointers, left and right, representing the start and end indices of the current search range. We perform binary search by calculating the middle index mid and comparing the value at mid with the target.\n",
    "\n",
    "If the value at mid is equal to the target, we have found the target and return the mid index.\n",
    "\n",
    "If the value at mid is less than the target, we update left to mid + 1 to search in the right half of the remaining range.\n",
    "\n",
    "If the value at mid is greater than the target, we update right to mid - 1 to search in the left half of the remaining range.\n",
    "\n",
    "We continue this process until the left pointer is greater than the right pointer, indicating that the target value is not found in the array. In this case, we return the left index, which represents the position where the target would be inserted to maintain a sorted order."
   ]
  },
  {
   "cell_type": "markdown",
   "id": "f328a398",
   "metadata": {},
   "source": [
    "## Q4.\n",
    "You are given a large integer represented as an integer array digits, where each digits[i] is the ith digit of the integer. The digits are ordered from most significant to least significant in left-to-right order. The large integer does not contain any leading 0's.\n",
    "\n",
    "Increment the large integer by one and return the resulting array of digits."
   ]
  },
  {
   "cell_type": "code",
   "execution_count": 17,
   "id": "b24ab1b7",
   "metadata": {},
   "outputs": [
    {
     "name": "stdout",
     "output_type": "stream",
     "text": [
      "[1, 2, 9]\n"
     ]
    }
   ],
   "source": [
    "def plus_one(digits):\n",
    "    n = len(digits)\n",
    "    \n",
    "    # Start from the rightmost digit and increment by 1\n",
    "    for i in range(n - 1, -1, -1):\n",
    "        if digits[i] < 9:\n",
    "            digits[i] += 1\n",
    "            return digits\n",
    "        else:\n",
    "            digits[i] = 0\n",
    "    \n",
    "    # If all digits are 9, add an additional digit 1 at the beginning\n",
    "    return [1] + digits\n",
    "\n",
    "# Example :\n",
    "digits = [1, 2, 8]\n",
    "result = plus_one(digits)\n",
    "print(result)\n",
    "\n",
    "# The time complexity of this solution is O(n), where n is the number of digits in the input array."
   ]
  },
  {
   "cell_type": "markdown",
   "id": "5e18851b",
   "metadata": {},
   "source": [
    "## Q5.\n",
    "You are given two integer arrays nums1 and nums2, sorted in non-decreasing order, and two integers m and n, representing the number of elements in nums1 and nums2 respectively.\n",
    "\n",
    "Merge nums1 and nums2 into a single array sorted in non-decreasing order.\n",
    "\n",
    "The final sorted array should not be returned by the function, but instead be stored inside the array nums1. To accommodate this, nums1 has a length of m + n, where the first m elements denote the elements that should be merged, and the last n elements are set to 0 and should be ignored. nums2 has a length of n.\n"
   ]
  },
  {
   "cell_type": "code",
   "execution_count": 10,
   "id": "87e7b73f",
   "metadata": {},
   "outputs": [
    {
     "name": "stdout",
     "output_type": "stream",
     "text": [
      "[1, 2, 2, 3, 5, 6]\n"
     ]
    }
   ],
   "source": [
    "def merge(nums1, m, nums2, n):\n",
    "    # Start merging from the last element of each array\n",
    "    i = m - 1\n",
    "    j = n - 1\n",
    "    k = m + n - 1\n",
    "    \n",
    "    # Merge the arrays from right to left\n",
    "    while i >= 0 and j >= 0:\n",
    "        if nums1[i] >= nums2[j]:\n",
    "            nums1[k] = nums1[i]\n",
    "            i -= 1\n",
    "        else:\n",
    "            nums1[k] = nums2[j]\n",
    "            j -= 1\n",
    "        k -= 1\n",
    "    \n",
    "    # If there are remaining elements in nums2, copy them to nums1\n",
    "    while j >= 0:\n",
    "        nums1[k] = nums2[j]\n",
    "        j -= 1\n",
    "        k -= 1\n",
    "\n",
    "# Example:\n",
    "nums1 = [1, 2, 3, 0, 0, 0]\n",
    "m = 3\n",
    "nums2 = [2, 5, 6]\n",
    "n = 3\n",
    "merge(nums1, m, nums2, n)\n",
    "print(nums1)\n",
    "\n",
    "# The time complexity of this solution is O(m + n), where m and n are the lengths of nums1 and nums2 respectively."
   ]
  },
  {
   "cell_type": "markdown",
   "id": "9fd1cdbf",
   "metadata": {},
   "source": [
    "## Q6. \n",
    "Given an integer array nums, return true if any value appears at least twice in the array, and return false if every element is distinct."
   ]
  },
  {
   "cell_type": "code",
   "execution_count": 16,
   "id": "94e08136",
   "metadata": {},
   "outputs": [],
   "source": [
    "def repetition(nums):\n",
    "    num_set = set()\n",
    "    \n",
    "    for num in nums:\n",
    "        if num in num_set:\n",
    "            return True\n",
    "        num_set.add(num)\n",
    "    \n",
    "    return False\n",
    "\n",
    "# The time complexity of this solution is O(n), where n is the length of the input array nums"
   ]
  },
  {
   "cell_type": "code",
   "execution_count": 13,
   "id": "05468294",
   "metadata": {},
   "outputs": [
    {
     "name": "stdout",
     "output_type": "stream",
     "text": [
      "True\n"
     ]
    }
   ],
   "source": [
    "# Example 1:\n",
    "nums = [1, 2, 3, 1]\n",
    "result = repetition(nums)\n",
    "print(result)\n"
   ]
  },
  {
   "cell_type": "code",
   "execution_count": 14,
   "id": "26b79afa",
   "metadata": {},
   "outputs": [
    {
     "name": "stdout",
     "output_type": "stream",
     "text": [
      "False\n"
     ]
    }
   ],
   "source": [
    "# Example 2:\n",
    "nums = [1, 2, 3, 4]\n",
    "result = repetition(nums)\n",
    "print(result)"
   ]
  },
  {
   "cell_type": "markdown",
   "id": "4d551f44",
   "metadata": {},
   "source": [
    "## Q7. \n",
    "Given an integer array nums, move all 0's to the end of it while maintaining the relative order of the nonzero elements.\n",
    "\n",
    "Note that you must do this in-place without making a copy of the array.\n"
   ]
  },
  {
   "cell_type": "code",
   "execution_count": 19,
   "id": "9f0c3ae5",
   "metadata": {},
   "outputs": [
    {
     "name": "stdout",
     "output_type": "stream",
     "text": [
      "[1, 3, 12, 0, 0]\n"
     ]
    }
   ],
   "source": [
    "def move_zeroes(nums):\n",
    "    zero_idx = 0  # Pointer to track the position of the next zero\n",
    "    \n",
    "    # Move all nonzero elements to the left, updating their positions\n",
    "    for i in range(len(nums)):\n",
    "        if nums[i] != 0:\n",
    "            nums[i], nums[zero_idx] = nums[zero_idx], nums[i]\n",
    "            zero_idx += 1\n",
    "\n",
    "# Example:\n",
    "nums = [0, 1, 0, 3, 12]\n",
    "move_zeroes(nums)\n",
    "print(nums)\n",
    "\n",
    "# The time complexity of this solution is O(n), where n is the length of the input array nums.\n"
   ]
  },
  {
   "cell_type": "markdown",
   "id": "68897934",
   "metadata": {},
   "source": [
    "## Q8.\n",
    "You have a set of integers s, which originally contains all the numbers from 1 to n. Unfortunately, due to some error, one of the numbers in s got duplicated to another number in the set, which results in repetition of one number and loss of another number.\n",
    "\n",
    "You are given an integer array nums representing the data status of this set after the error.\n",
    "\n",
    "Find the number that occurs twice and the number that is missing and return them in the form of an array.\n"
   ]
  },
  {
   "cell_type": "code",
   "execution_count": 20,
   "id": "fe474e3a",
   "metadata": {},
   "outputs": [
    {
     "name": "stdout",
     "output_type": "stream",
     "text": [
      "[2, 3]\n"
     ]
    }
   ],
   "source": [
    "def find_error(nums):\n",
    "    n = len(nums)\n",
    "    num_set = set()\n",
    "    duplicate = -1\n",
    "    \n",
    "    # Find the duplicate number\n",
    "    for num in nums:\n",
    "        if num in num_set:\n",
    "            duplicate = num\n",
    "        else:\n",
    "            num_set.add(num)\n",
    "    \n",
    "    # Find the missing number\n",
    "    missing = -1\n",
    "    for i in range(1, n + 1):\n",
    "        if i not in num_set:\n",
    "            missing = i\n",
    "            break\n",
    "    \n",
    "    return [duplicate, missing]\n",
    "\n",
    "# Example :\n",
    "nums = [1, 2, 2, 4]\n",
    "result = find_error(nums)\n",
    "print(result)\n",
    "\n",
    "# The time complexity of this solution is O(n), where n is the length of the input array nums. "
   ]
  }
 ],
 "metadata": {
  "kernelspec": {
   "display_name": "Python 3 (ipykernel)",
   "language": "python",
   "name": "python3"
  },
  "language_info": {
   "codemirror_mode": {
    "name": "ipython",
    "version": 3
   },
   "file_extension": ".py",
   "mimetype": "text/x-python",
   "name": "python",
   "nbconvert_exporter": "python",
   "pygments_lexer": "ipython3",
   "version": "3.9.12"
  }
 },
 "nbformat": 4,
 "nbformat_minor": 5
}
